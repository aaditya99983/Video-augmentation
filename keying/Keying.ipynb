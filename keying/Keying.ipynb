{
 "cells": [
  {
   "cell_type": "code",
   "execution_count": 1,
   "metadata": {
    "collapsed": true,
    "deletable": true,
    "editable": true
   },
   "outputs": [],
   "source": [
    "from ipywidgets import interact, interactive, fixed, interact_manual\n",
    "import ipywidgets as widgets"
   ]
  },
  {
   "cell_type": "code",
   "execution_count": 2,
   "metadata": {
    "collapsed": true,
    "deletable": true,
    "editable": true
   },
   "outputs": [],
   "source": [
    "import cv2\n",
    "import numpy as np"
   ]
  },
  {
   "cell_type": "code",
   "execution_count": 3,
   "metadata": {
    "collapsed": true,
    "deletable": true,
    "editable": true
   },
   "outputs": [],
   "source": [
    "from matplotlib import pyplot as plt"
   ]
  },
  {
   "cell_type": "code",
   "execution_count": 4,
   "metadata": {
    "collapsed": true,
    "deletable": true,
    "editable": true
   },
   "outputs": [],
   "source": [
    "import os"
   ]
  },
  {
   "cell_type": "code",
   "execution_count": 5,
   "metadata": {
    "collapsed": true,
    "deletable": true,
    "editable": true
   },
   "outputs": [],
   "source": [
    "def show_images(lst):\n",
    "    while True:\n",
    "        for i in lst:\n",
    "            cv2.imshow(i[0],i[1])\n",
    "        ret = cv2.waitKey(0)\n",
    "        if ret==27:\n",
    "            break\n",
    "    cv2.destroyAllWindows()"
   ]
  },
  {
   "cell_type": "markdown",
   "metadata": {
    "deletable": true,
    "editable": true
   },
   "source": [
    "## Testing basic H threshold"
   ]
  },
  {
   "cell_type": "code",
   "execution_count": 6,
   "metadata": {
    "collapsed": true,
    "deletable": true,
    "editable": true
   },
   "outputs": [],
   "source": [
    "# video_path = \"./ignore/lab_green_screen/suyash_oneplus.mp4\"\n",
    "# video_path = \"./video/test.mp4\"\n",
    "video_path = \"./ignore/lab_green_screen/ankesh_oneplus.mp4\"\n",
    "# video_path = \"./ignore/Green Screen/JA0A7025.MOV\"\n",
    "cap = cv2.VideoCapture(video_path)"
   ]
  },
  {
   "cell_type": "code",
   "execution_count": 7,
   "metadata": {
    "collapsed": false,
    "deletable": true,
    "editable": true
   },
   "outputs": [],
   "source": [
    "ret,IMG = cap.read()\n",
    "IMG = cv2.resize(IMG,(IMG.shape[1]//2,IMG.shape[0]//2))"
   ]
  },
  {
   "cell_type": "code",
   "execution_count": 8,
   "metadata": {
    "collapsed": true,
    "deletable": true,
    "editable": true
   },
   "outputs": [],
   "source": [
    "show_images([(\"a\",IMG)])"
   ]
  },
  {
   "cell_type": "code",
   "execution_count": null,
   "metadata": {
    "collapsed": true,
    "deletable": true,
    "editable": true
   },
   "outputs": [],
   "source": [
    "# def segment_hls(orig,params,al,bet,gm,mult):\n",
    "#     h_mean,h_std,l_mean,l_std,s_mean,s_std = params\n",
    "#     hls_im = cv2.cvtColor(orig,cv2.COLOR_BGR2HLS)\n",
    "#     a = (hls_im[:,:,0]>(h_mean-mult*h_std))\n",
    "#     b = (hls_im[:,:,0]<(h_mean+mult*h_std))\n",
    "#     h_mask = a*b\n",
    "#     a = (hls_im[:,:,1]>(l_mean-mult*l_std))\n",
    "#     b = (hls_im[:,:,1]<(l_mean+mult*l_std))\n",
    "#     l_mask = a*b\n",
    "#     a = (hls_im[:,:,2]>(s_mean-mult*s_std))\n",
    "#     b = (hls_im[:,:,2]<(s_mean+mult*s_std))\n",
    "#     s_mask = a*b\n",
    "#     hls_mask = (al*h_mask + bet*l_mask + gm*s_mask)\n",
    "# #     return hls_mask\n",
    "#     hls_mask = hls_mask.clip(0.0,1.0)\n",
    "#     hls_mask = 1 - hls_mask\n",
    "#     return hls_mask"
   ]
  },
  {
   "cell_type": "code",
   "execution_count": 9,
   "metadata": {
    "collapsed": true,
    "deletable": true,
    "editable": true
   },
   "outputs": [],
   "source": [
    "def segment_ycrcb(orig,params,tola,tolb):\n",
    "    ycrcb_im = cv2.cvtColor(orig,cv2.COLOR_BGR2YCrCb)\n",
    "    Cb_key,Cr_key = params\n",
    "    blue = ycrcb_im[:,:,2]\n",
    "    red = ycrcb_im[:,:,1]\n",
    "\n",
    "    diffbsq = (blue-Cb_key)**2\n",
    "    diffrsq = (red-Cr_key)**2\n",
    "    dist = np.sqrt(diffbsq+diffrsq).astype(np.float32)\n",
    "\n",
    "    mask = ((dist-tola)/(tolb-tola)).astype(np.float32)\n",
    "    mask[dist<tola]=0.0\n",
    "    mask[dist>tolb]=1.0\n",
    "    return mask"
   ]
  },
  {
   "cell_type": "code",
   "execution_count": 10,
   "metadata": {
    "collapsed": true,
    "deletable": true,
    "editable": true
   },
   "outputs": [],
   "source": [
    "def get_region(img):\n",
    "    r = cv2.selectROI(\"Select window of background\",img=img,fromCenter=False,showCrossair=False)\n",
    "    cv2.destroyAllWindows()\n",
    "    return r"
   ]
  },
  {
   "cell_type": "code",
   "execution_count": 11,
   "metadata": {
    "collapsed": true,
    "deletable": true,
    "editable": true
   },
   "outputs": [],
   "source": [
    "def get_params_hls(img,region):\n",
    "    hls_img = cv2.cvtColor(img,cv2.COLOR_BGR2HLS).astype(np.float32)\n",
    "    r = [int(x) for x in region]\n",
    "    region = hls_img[int(region[1]):int(region[1]+region[3]), int(region[0]):int(region[0]+region[2])]\n",
    "    h_mean,l_mean,s_mean = np.mean(region,axis=(0,1))\n",
    "    h_std,l_std,s_std = np.std(region,axis=(0,1))\n",
    "    return [h_mean,h_std,l_mean,l_std,s_mean,s_std]"
   ]
  },
  {
   "cell_type": "code",
   "execution_count": 12,
   "metadata": {
    "collapsed": true,
    "deletable": true,
    "editable": true
   },
   "outputs": [],
   "source": [
    "def get_params_ycrcb(img,region):\n",
    "    ycrcb_img = cv2.cvtColor(img,cv2.COLOR_BGR2YCrCb).astype(np.float32)\n",
    "    cv2.destroyAllWindows()\n",
    "    r = [int(x) for x in region]\n",
    "    region = ycrcb_img[int(region[1]):int(region[1]+region[3]), int(region[0]):int(region[0]+region[2])]\n",
    "    y_mean,Cr_mean,Cb_mean = np.mean(region,axis=(0,1))\n",
    "    y_std,Cr_std,Cb_std = np.std(region,axis=(0,1))\n",
    "    return [Cb_mean,Cr_mean]"
   ]
  },
  {
   "cell_type": "code",
   "execution_count": 13,
   "metadata": {
    "collapsed": true,
    "deletable": true,
    "editable": true
   },
   "outputs": [],
   "source": [
    "def brighten(img,alpha,beta,gamma):\n",
    "    cor_img = img.astype(np.float32)\n",
    "    bright_img = alpha*cor_img + beta\n",
    "    gam_cor = np.power(bright_img/255,gamma)*255\n",
    "    bright_img = gam_cor.clip(0,255).astype(np.uint8)\n",
    "    return bright_img"
   ]
  },
  {
   "cell_type": "code",
   "execution_count": 14,
   "metadata": {
    "collapsed": true,
    "deletable": true,
    "editable": true
   },
   "outputs": [],
   "source": [
    "def mod_mask(mask,low,high):\n",
    "    mask = mask.copy()\n",
    "    mask[mask>high]=1.0\n",
    "    mask[mask<low] = 0.0\n",
    "    return mask"
   ]
  },
  {
   "cell_type": "code",
   "execution_count": 34,
   "metadata": {
    "collapsed": true,
    "deletable": true,
    "editable": true
   },
   "outputs": [],
   "source": [
    "def process(img,bg,param_ycrcb,param_hls,tola,tolb,low_thresh,high_thresh,alpha,beta,gamma,sz,space,erode_sz):\n",
    "    ##ENSURE THAT param_ycrcb and param_hls correspond to brigthened img\n",
    "    \n",
    "#     brimg = brighten(img,alpha,beta,gamma)\n",
    "    brimg = img\n",
    "    brimg = cv2.bilateralFilter(brimg,sz,space,space)\n",
    "    \n",
    "    mask = segment_ycrcb(brimg,param_ycrcb,tola,tolb)\n",
    "    mask = mod_mask(mask,low_thresh,high_thresh)\n",
    "    \n",
    "#     kernel = np.ones((erode_sz,erode_sz),np.uint8)\n",
    "#     mask = cv2.erode(mask,kernel,iterations = 1)\n",
    "    \n",
    "    mask = np.expand_dims(mask,-1)\n",
    "    \n",
    "    new_img = (mask*img+(1-mask)*bg).astype(np.uint8)\n",
    "    return (mask,new_img)\n",
    "#     return new_img\n",
    "#     cv2.imshow(\"masked\",new_img)\n",
    "#     cv2.imshow(\"mask\",mask)\n",
    "#     ret = cv2.waitKey(100)"
   ]
  },
  {
   "cell_type": "code",
   "execution_count": 16,
   "metadata": {
    "collapsed": true,
    "deletable": true,
    "editable": true
   },
   "outputs": [],
   "source": [
    "def write_alpha_img(img,mask,path):\n",
    "    r_channel, g_channel, b_channel = cv2.split(img)\n",
    "    alpha = (mask*255).astype(np.uint8)\n",
    "    img_RGBA = cv2.merge((r_channel, g_channel, b_channel, alpha))\n",
    "    cv2.imwrite(path, img_RGBA)\n",
    "    return img_RGBA"
   ]
  },
  {
   "cell_type": "code",
   "execution_count": null,
   "metadata": {
    "collapsed": true,
    "deletable": true,
    "editable": true
   },
   "outputs": [],
   "source": []
  },
  {
   "cell_type": "code",
   "execution_count": 17,
   "metadata": {
    "collapsed": false,
    "deletable": true,
    "editable": true
   },
   "outputs": [],
   "source": [
    "WHITE = np.ones(IMG.shape,dtype=np.int8)*255\n",
    "region = get_region(IMG)"
   ]
  },
  {
   "cell_type": "code",
   "execution_count": 28,
   "metadata": {
    "collapsed": true,
    "deletable": true,
    "editable": true
   },
   "outputs": [],
   "source": [
    "param_hls = get_params_hls(IMG,region)"
   ]
  },
  {
   "cell_type": "code",
   "execution_count": 25,
   "metadata": {
    "collapsed": false,
    "deletable": true,
    "editable": true
   },
   "outputs": [],
   "source": [
    "param_ycrcb = get_params_ycrcb(IMG,region)"
   ]
  },
  {
   "cell_type": "code",
   "execution_count": null,
   "metadata": {
    "collapsed": true,
    "deletable": true,
    "editable": true
   },
   "outputs": [],
   "source": [
    "show_images([(\"x\",IMG)])"
   ]
  },
  {
   "cell_type": "code",
   "execution_count": null,
   "metadata": {
    "collapsed": true,
    "deletable": true,
    "editable": true
   },
   "outputs": [],
   "source": [
    "im = cv2.bilateralFilter(IMG,5,100,100)\n",
    "# im = cv2.bilateralFilter(IMG,1,1,1)\n",
    "show_images([(\"orig\",IMG),(\"x\",im)])"
   ]
  },
  {
   "cell_type": "code",
   "execution_count": 33,
   "metadata": {
    "collapsed": false,
    "deletable": true,
    "editable": true
   },
   "outputs": [
    {
     "name": "stdout",
     "output_type": "stream",
     "text": [
      "10 loops, best of 3: 49.9 ms per loop\n"
     ]
    }
   ],
   "source": [
    "%timeit process(IMG,WHITE,param_ycrcb,param_hls,tola,tolb,low_thresh,high_thresh,alpha,beta,gamma,bl_sz,bl_space,erode_sz)"
   ]
  },
  {
   "cell_type": "code",
   "execution_count": 23,
   "metadata": {
    "collapsed": false,
    "deletable": true,
    "editable": true
   },
   "outputs": [],
   "source": [
    "def test(img,bg,region,tola,tolb,low_thresh,high_thresh,alpha,beta,gamma,sz,space,erode_sz):\n",
    "    \n",
    "    brimg = brighten(img,alpha,beta,gamma)\n",
    "    brimg = cv2.bilateralFilter(brimg,sz,space,space)\n",
    "    \n",
    "    param_hls = get_params_hls(brimg,region)\n",
    "    param_ycrcb = get_params_ycrcb(brimg,region)\n",
    "    \n",
    "    mask = segment_ycrcb(brimg,param_ycrcb,tola,tolb)\n",
    "    mask = mod_mask(mask,low_thresh,high_thresh)\n",
    "    \n",
    "    kernel = np.ones((erode_sz,erode_sz),np.uint8)\n",
    "    mask = cv2.erode(mask,kernel,iterations = 1)\n",
    "    \n",
    "    mask = np.expand_dims(mask,-1)\n",
    "    new_img = (mask*img+(1-mask)*bg).astype(np.uint8)\n",
    "    \n",
    "#     cv2.imshow(\"orig\",img)\n",
    "#     cv2.imshow(\"filterimg\",brimg)\n",
    "#     cv2.imshow(\"Mask\",mask)\n",
    "#     cv2.imshow(\"new\",new_img)\n",
    "#     cv2.waitKey(1000)\n"
   ]
  },
  {
   "cell_type": "code",
   "execution_count": null,
   "metadata": {
    "collapsed": true,
    "deletable": true,
    "editable": true
   },
   "outputs": [],
   "source": [
    "cv2.destroyAllWindows()"
   ]
  },
  {
   "cell_type": "code",
   "execution_count": 26,
   "metadata": {
    "collapsed": true,
    "deletable": true,
    "editable": true
   },
   "outputs": [],
   "source": [
    "tola=16\n",
    "tolb=50\n",
    "low_thresh = 0.05\n",
    "high_thresh = 0.25\n",
    "alpha = 1.0\n",
    "beta = 0\n",
    "gamma = 1.0\n",
    "bl_sz=5\n",
    "bl_space=200\n",
    "erode_sz=0"
   ]
  },
  {
   "cell_type": "code",
   "execution_count": null,
   "metadata": {
    "collapsed": true,
    "deletable": true,
    "editable": true
   },
   "outputs": [],
   "source": []
  },
  {
   "cell_type": "code",
   "execution_count": 21,
   "metadata": {
    "collapsed": false,
    "deletable": true,
    "editable": true
   },
   "outputs": [
    {
     "name": "stdout",
     "output_type": "stream",
     "text": [
      "10 loops, best of 3: 62.3 ms per loop\n"
     ]
    }
   ],
   "source": [
    "%timeit test(img=(IMG),bg=(WHITE),region=(region),tola=16,tolb=50,low_thresh=0.05,high_thresh=0.25,alpha=1.0,beta=0.0,gamma=1.0,sz=5,space=200,erode_sz=0)"
   ]
  },
  {
   "cell_type": "code",
   "execution_count": null,
   "metadata": {
    "collapsed": false,
    "deletable": true,
    "editable": true
   },
   "outputs": [],
   "source": [
    "interact(test,img=fixed(IMG),bg=fixed(WHITE),region=fixed(region),tola=16,tolb=50,low_thresh=0.05,high_thresh=0.25,alpha=1.0,beta=0.0,gamma=1.0,sz=5,space=200,erode_sz=0)"
   ]
  },
  {
   "cell_type": "code",
   "execution_count": null,
   "metadata": {
    "collapsed": false,
    "deletable": true,
    "editable": true
   },
   "outputs": [],
   "source": [
    "# Define the codec and create VideoWriter object\n",
    "fourcc = cv2.VideoWriter_fourcc(*'XVID')\n",
    "outpath = \"./ankesh_vid/\"\n",
    "outp_img = outpath+\"image/\"\n",
    "outp_vid = outpath+\"video.avi\"\n",
    "os.makedirs(outp_img,exist_ok=True)\n",
    "os.makedirs(outpath,exist_ok=True)\n",
    "\n",
    "output = []\n",
    "i = 0\n",
    "\n",
    "tola=16\n",
    "tolb=50\n",
    "low_thresh = 0.05\n",
    "high_thresh = 0.25\n",
    "alpha = 1.0\n",
    "beta = 0\n",
    "gamma = 1.0\n",
    "bl_sz=5\n",
    "bl_space=200\n",
    "erode_sz=0\n",
    "\n",
    "cap = cv2.VideoCapture(video_path)\n",
    "fps = cap.get(5)\n",
    "ret,img = cap.read()\n",
    "img = cv2.resize(img,(img.shape[1]//2,img.shape[0]//2))\n",
    "region = get_region(img)\n",
    "\n",
    "vid = cv2.VideoWriter(outp_vid,fourcc, fps, (img.shape[1],img.shape[0]))\n",
    "WHITE = np.ones(img.shape,dtype=np.int8)*255\n",
    "\n",
    "brimg = brighten(img,alpha,beta,gamma)\n",
    "brimg = cv2.bilateralFilter(brimg,bl_sz,bl_space,bl_space)\n",
    "\n",
    "param_hls = get_params_hls(brimg,region)\n",
    "param_ycrcb = get_params_ycrcb(brimg,region)\n",
    "\n",
    "output = []\n",
    "\n",
    "while(True):\n",
    "    ret,img = cap.read()\n",
    "    if not ret:\n",
    "        break\n",
    "    img = cv2.resize(img,(img.shape[1]//2,img.shape[0]//2))\n",
    "    \n",
    "    mask,new_img = process(img,WHITE,param_ycrcb,param_hls,tola,tolb,\n",
    "                           low_thresh,high_thresh,alpha,beta,gamma,bl_sz,bl_space,erode_sz)\n",
    "    \n",
    "    \n",
    "    \n",
    "    cv2.imshow(\"masked\",new_img)\n",
    "    cv2.imshow(\"mask\",mask)\n",
    "    \n",
    "    img_name = outp_img+\"img_%04d.png\"%i\n",
    "    rgba_img = write_alpha_img(img,mask,img_name)\n",
    "\n",
    "    vid.write(new_img)\n",
    "    output.append(new_img)\n",
    "    \n",
    "    ret = cv2.waitKey(1)\n",
    "    if ret==27:\n",
    "        break\n",
    "    i+=1\n",
    "cv2.destroyAllWindows()\n",
    "vid.release()"
   ]
  },
  {
   "cell_type": "code",
   "execution_count": null,
   "metadata": {
    "collapsed": true,
    "deletable": true,
    "editable": true
   },
   "outputs": [],
   "source": []
  }
 ],
 "metadata": {
  "kernelspec": {
   "display_name": "Python 3",
   "language": "python",
   "name": "python3"
  },
  "language_info": {
   "codemirror_mode": {
    "name": "ipython",
    "version": 3
   },
   "file_extension": ".py",
   "mimetype": "text/x-python",
   "name": "python",
   "nbconvert_exporter": "python",
   "pygments_lexer": "ipython3",
   "version": "3.5.2"
  }
 },
 "nbformat": 4,
 "nbformat_minor": 2
}
