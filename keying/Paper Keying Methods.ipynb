{
 "cells": [
  {
   "cell_type": "code",
   "execution_count": 1,
   "metadata": {
    "collapsed": true,
    "deletable": true,
    "editable": true
   },
   "outputs": [],
   "source": [
    "import cv2\n",
    "import math\n",
    "import numpy as np\n",
    "%matplotlib inline\n",
    "from matplotlib import pyplot as plt"
   ]
  },
  {
   "cell_type": "code",
   "execution_count": 2,
   "metadata": {
    "collapsed": true,
    "deletable": true,
    "editable": true
   },
   "outputs": [],
   "source": [
    "def show_images(lst):\n",
    "    while True:\n",
    "        for i in lst:\n",
    "            cv2.imshow(i[0],i[1])\n",
    "        ret = cv2.waitKey(0)\n",
    "        if ret==27:\n",
    "            break\n",
    "    cv2.destroyAllWindows()"
   ]
  },
  {
   "cell_type": "code",
   "execution_count": 3,
   "metadata": {
    "collapsed": true,
    "deletable": true,
    "editable": true
   },
   "outputs": [],
   "source": [
    "video_path = \"./video/suyash_oneplus.mp4\""
   ]
  },
  {
   "cell_type": "code",
   "execution_count": 4,
   "metadata": {
    "collapsed": true,
    "deletable": true,
    "editable": true
   },
   "outputs": [],
   "source": [
    "cap = cv2.VideoCapture(video_path)\n",
    "ret,IMG = cap.read()\n",
    "IMG = cv2.resize(IMG,(IMG.shape[1],IMG.shape[0]))"
   ]
  },
  {
   "cell_type": "code",
   "execution_count": 5,
   "metadata": {
    "collapsed": true,
    "deletable": true,
    "editable": true
   },
   "outputs": [],
   "source": [
    "def get_distance(Cb_p,Cr_p,Cb_key,Cr_key,tola,tolb):\n",
    "    temp = math.sqrt((Cb_key-Cb_p)**2 + (Cr_key-Cr_p)**2)\n",
    "    if(temp < tola):\n",
    "        return 0.0\n",
    "    elif (temp < tolb):\n",
    "        return (temp-tola)/(tolb-tola)\n",
    "    else:\n",
    "        return 1.0"
   ]
  },
  {
   "cell_type": "code",
   "execution_count": 6,
   "metadata": {
    "collapsed": true,
    "deletable": true,
    "editable": true
   },
   "outputs": [],
   "source": [
    "ctr=0"
   ]
  },
  {
   "cell_type": "code",
   "execution_count": 7,
   "metadata": {
    "collapsed": true,
    "deletable": true,
    "editable": true
   },
   "outputs": [],
   "source": [
    "def segment(orig,params,tola,tolb):\n",
    "    Cb_key,Cr_key = params\n",
    "    ycrcb_im = cv2.cvtColor(orig,cv2.COLOR_BGR2YCrCb)\n",
    "    mask = np.zeros((orig.shape[0],orig.shape[1]),dtype=np.float32)\n",
    "    for i in range(orig.shape[0]):\n",
    "        for j in range(orig.shape[1]):\n",
    "            mask[i,j] = get_distance(ycrcb_im[i,j][2],ycrcb_im[i,j][1],Cb_key,Cr_key,tola,tolb)\n",
    "    mask = 1.0 - mask\n",
    "    return mask"
   ]
  },
  {
   "cell_type": "code",
   "execution_count": 8,
   "metadata": {
    "collapsed": true,
    "deletable": true,
    "editable": true
   },
   "outputs": [],
   "source": [
    "def get_params(img):\n",
    "    ycrcb_img = cv2.cvtColor(img,cv2.COLOR_BGR2YCrCb).astype(np.float32)\n",
    "    r = cv2.selectROI(img)\n",
    "    cv2.destroyAllWindows()\n",
    "    r = [int(x) for x in r]\n",
    "    region = ycrcb_img[int(r[1]):int(r[1]+r[3]), int(r[0]):int(r[0]+r[2])]\n",
    "    y_mean,Cr_mean,Cb_mean = np.mean(region,axis=(0,1))\n",
    "    y_std,Cr_std,Cb_std = np.std(region,axis=(0,1))\n",
    "    return [Cb_mean,Cr_mean]"
   ]
  },
  {
   "cell_type": "code",
   "execution_count": 9,
   "metadata": {
    "collapsed": true,
    "deletable": true,
    "editable": true
   },
   "outputs": [],
   "source": [
    "params = get_params(IMG)"
   ]
  },
  {
   "cell_type": "code",
   "execution_count": 10,
   "metadata": {
    "collapsed": true,
    "deletable": true,
    "editable": true,
    "scrolled": true
   },
   "outputs": [],
   "source": [
    "WHITE = np.ones((IMG.shape[0]//2,IMG.shape[1]//2,3),dtype=np.int8)*255"
   ]
  },
  {
   "cell_type": "code",
   "execution_count": 11,
   "metadata": {
    "collapsed": true,
    "deletable": true,
    "editable": true
   },
   "outputs": [],
   "source": [
    "cap = cv2.VideoCapture(video_path)\n",
    "while(True):\n",
    "    ret,img = cap.read()\n",
    "    if not ret:\n",
    "        break\n",
    "    img = cv2.resize(img,(img.shape[1]//2,img.shape[0]//2))\n",
    "    mask = np.expand_dims(segment(img,params,12,20),-1)\n",
    "    new_img = ((1-mask)*img+(mask)*WHITE).astype(np.uint8)\n",
    "#     cv2.imshow(\"img\",img)\n",
    "#     cv2.imshow(\"masked\",new_img)\n",
    "    ctr += 1\n",
    "    s= \"%05d\" %(ctr,)\n",
    "    cv2.imwrite('ignore/temp/img'+s+'.png',new_img)\n",
    "    ret = cv2.waitKey(1)\n",
    "    if ret==27:\n",
    "        break\n",
    "cv2.destroyAllWindows()"
   ]
  },
  {
   "cell_type": "code",
   "execution_count": null,
   "metadata": {
    "collapsed": true,
    "deletable": true,
    "editable": true
   },
   "outputs": [],
   "source": []
  }
 ],
 "metadata": {
  "kernelspec": {
   "display_name": "Python 3",
   "language": "python",
   "name": "python3"
  },
  "language_info": {
   "codemirror_mode": {
    "name": "ipython",
    "version": 3
   },
   "file_extension": ".py",
   "mimetype": "text/x-python",
   "name": "python",
   "nbconvert_exporter": "python",
   "pygments_lexer": "ipython3",
   "version": "3.5.2"
  }
 },
 "nbformat": 4,
 "nbformat_minor": 2
}
