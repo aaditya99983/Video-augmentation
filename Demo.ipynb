{
 "cells": [
  {
   "cell_type": "code",
   "execution_count": 1,
   "metadata": {
    "collapsed": true,
    "deletable": true,
    "editable": true
   },
   "outputs": [],
   "source": [
    "import cv2\n",
    "import numpy as np\n",
    "import keying\n",
    "import projection\n",
    "import imp\n",
    "import time"
   ]
  },
  {
   "cell_type": "code",
   "execution_count": 2,
   "metadata": {
    "collapsed": true,
    "deletable": true,
    "editable": true
   },
   "outputs": [],
   "source": [
    "import line_profiler"
   ]
  },
  {
   "cell_type": "code",
   "execution_count": 3,
   "metadata": {
    "collapsed": false,
    "deletable": true,
    "editable": true
   },
   "outputs": [
    {
     "data": {
      "text/plain": [
       "<module 'keying' from '/home/ozym4nd145/Coding/Project/Vision_Project/keying.py'>"
      ]
     },
     "execution_count": 3,
     "metadata": {},
     "output_type": "execute_result"
    }
   ],
   "source": [
    "imp.reload(keying)"
   ]
  },
  {
   "cell_type": "code",
   "execution_count": 4,
   "metadata": {
    "collapsed": true,
    "deletable": true,
    "editable": true
   },
   "outputs": [],
   "source": [
    "def show_images(lst):\n",
    "    while True:\n",
    "        for i in lst:\n",
    "            cv2.imshow(i[0],i[1])\n",
    "        ret = cv2.waitKey(0)\n",
    "        if ret==27:\n",
    "            break\n",
    "    cv2.destroyAllWindows()"
   ]
  },
  {
   "cell_type": "code",
   "execution_count": 15,
   "metadata": {
    "collapsed": false,
    "deletable": true,
    "editable": true
   },
   "outputs": [],
   "source": [
    "def project_img(img, bg, mask_corners, key_param, tola=16, tolb=50, low_thresh=0.05, high_thresh=0.25,\n",
    "                erode_sz=3, sz=5, space=200, sat_mul_lo=5, sat_mul_hi=7, scale_blur=20, blur_size=3):\n",
    "    \n",
    "    key_mask = keying.get_mask(\n",
    "        img, key_param[0], tola, tolb, low_thresh, high_thresh, sz, space, erode_sz)\n",
    "    \n",
    "    if not (sat_mul_hi == 0):\n",
    "        mod_img = keying.process_img(img, key_param[1], sat_mul_lo, sat_mul_hi)\n",
    "    else:\n",
    "        mod_img = img\n",
    "\n",
    "    bgra = keying.get_bgra(mod_img, key_mask)\n",
    "\n",
    "    res = projection.project_to_mask(bgra, mask_corners, bg.shape)\n",
    "    \n",
    "    trans_img = res[:, :, :3]  # (x,y,3)\n",
    "    trans_mask = np.expand_dims(\n",
    "        (res[:, :, 3]).astype(np.float32) / 255, -1)  # (x,y)\n",
    "    \n",
    "    result = (trans_img*trans_mask + bg*(1-trans_mask)).astype(np.uint8)\n",
    "    \n",
    "    if not (scale_blur <= 0 or blur_size<=1):\n",
    "        light_mask = np.expand_dims(\n",
    "            scale_blur * cv2.blur(trans_mask * (1 - trans_mask), (blur_size, blur_size)), -1)\n",
    "        light_mask = np.clip(light_mask, 0.0, 1.0)\n",
    "        light = bg * light_mask\n",
    "        diffl = result * (1 - light_mask)\n",
    "        light_result = (light + diffl).astype(np.uint8)\n",
    "    else:\n",
    "        light_result = result\n",
    "\n",
    "    end_time = time.time()\n",
    "    return light_result"
   ]
  },
  {
   "cell_type": "code",
   "execution_count": 6,
   "metadata": {
    "collapsed": true,
    "deletable": true,
    "editable": true
   },
   "outputs": [],
   "source": [
    "def get_key_param(img):\n",
    "    key_region = keying.get_region(img)\n",
    "    ycrcb = keying.get_params_ycrcb(img,key_region)\n",
    "    hls = keying.get_params_hls(img,key_region)\n",
    "    return (ycrcb,hls)"
   ]
  },
  {
   "cell_type": "markdown",
   "metadata": {
    "deletable": true,
    "editable": true
   },
   "source": [
    "## IMG Test"
   ]
  },
  {
   "cell_type": "code",
   "execution_count": 7,
   "metadata": {
    "collapsed": false,
    "deletable": true,
    "editable": true
   },
   "outputs": [],
   "source": [
    "img = cv2.imread(\"./image/twoperson.png\")\n",
    "bg = cv2.imread(\"./image/bg.jpg\")\n",
    "mask = cv2.imread(\"./image/mask.jpg\")\n",
    "\n",
    "key_param = get_key_param(img)\n",
    "mask_corner = projection.get_corners_mask(mask)\n",
    "res = project_img(img,bg,mask_corner,key_param)\n",
    "\n",
    "show_images([(\"i\",img),(\"bg\",bg),(\"m\",mask),(\"res\",res)])"
   ]
  },
  {
   "cell_type": "markdown",
   "metadata": {
    "deletable": true,
    "editable": true
   },
   "source": [
    "## Video Test"
   ]
  },
  {
   "cell_type": "code",
   "execution_count": 8,
   "metadata": {
    "collapsed": true,
    "deletable": true,
    "editable": true
   },
   "outputs": [],
   "source": [
    "green_vid_path = \"./video/fight_green.mp4\"\n",
    "# green_vid_path = \"./video/suyash_oneplus.mp4\"\n",
    "env_vid_path = \"./video/fight.avi\"\n",
    "env_mask_path = \"./video/fight_mask.txt\"\n",
    "outp_vid = \"./video/fight_result.mov\"\n",
    "outp_vid_l = \"./video/fight_result_light.mov\""
   ]
  },
  {
   "cell_type": "code",
   "execution_count": 9,
   "metadata": {
    "collapsed": true,
    "deletable": true,
    "editable": true
   },
   "outputs": [],
   "source": [
    "cap_green = cv2.VideoCapture(green_vid_path)\n",
    "cap_vid = cv2.VideoCapture(env_vid_path)"
   ]
  },
  {
   "cell_type": "code",
   "execution_count": 10,
   "metadata": {
    "collapsed": true,
    "deletable": true,
    "editable": true
   },
   "outputs": [],
   "source": [
    "ret,img = cap_green.read()\n",
    "# img = np.transpose(img,[1,0,2])\n",
    "ret,bg = cap_vid.read()\n",
    "with open(env_mask_path,\"r\") as fl:\n",
    "    lines = fl.read().split(\"\\n\")[:-1]\n",
    "    corners = []\n",
    "    for l in lines:\n",
    "        p = [int(a) for a in l.split()]\n",
    "        corners.append([[p[0],p[1]],[p[2],p[3]],[p[4],p[5]],[p[6],p[7]]])\n",
    "    corners = np.array(corners,dtype=np.float32)"
   ]
  },
  {
   "cell_type": "code",
   "execution_count": 11,
   "metadata": {
    "collapsed": false,
    "deletable": true,
    "editable": true
   },
   "outputs": [],
   "source": [
    "key_param = get_key_param(img)"
   ]
  },
  {
   "cell_type": "code",
   "execution_count": 12,
   "metadata": {
    "collapsed": true,
    "deletable": true,
    "editable": true
   },
   "outputs": [],
   "source": [
    "fourcc = cv2.VideoWriter_fourcc(*'XVID')\n",
    "fps = cap_vid.get(5)\n",
    "vid = cv2.VideoWriter(outp_vid,fourcc, fps, (bg.shape[1],bg.shape[0]))"
   ]
  },
  {
   "cell_type": "code",
   "execution_count": 13,
   "metadata": {
    "collapsed": true,
    "deletable": true,
    "editable": true
   },
   "outputs": [],
   "source": [
    "iteration = 0\n",
    "end_iter = len(corners)"
   ]
  },
  {
   "cell_type": "code",
   "execution_count": 16,
   "metadata": {
    "collapsed": false,
    "deletable": true,
    "editable": true
   },
   "outputs": [
    {
     "name": "stdout",
     "output_type": "stream",
     "text": [
      "0.19526076316833496\n",
      "0.16091036796569824\n",
      "0.15045571327209473\n",
      "0.1363966464996338\n",
      "0.1455223560333252\n",
      "0.14732766151428223\n",
      "0.1405928134918213\n",
      "0.1505451202392578\n",
      "0.14145922660827637\n"
     ]
    }
   ],
   "source": [
    "while True:\n",
    "    start_t = time.time()\n",
    "    ret1,img = cap_green.read()\n",
    "    ret2,bg = cap_vid.read()\n",
    "    \n",
    "    if (not(ret1 and ret2 and(iteration != end_iter))):\n",
    "        break\n",
    "        \n",
    "#     res = project_img(img,bg,corners[iteration],key_param)\n",
    "    res = project_img(img, bg, corners[iteration], key_param, tola = 16 ,tolb = 50 ,\n",
    "                          low_thresh = 0.05 ,high_thresh = 0.25 ,erode_sz = 0 ,\n",
    "                          sz = 0 ,space = 0 ,sat_mul_lo = 0 ,sat_mul_hi = 0 ,\n",
    "                          scale_blur = 0 ,blur_size = 0)\n",
    "#     vid.write(res)\n",
    "    \n",
    "    end_time = time.time()\n",
    "    print(end_time-start_t)\n",
    "    \n",
    "    cv2.imshow(\"result\",res)\n",
    "    ret = cv2.waitKey(20)\n",
    "    if ret==27:\n",
    "        break\n",
    "    \n",
    "    iteration += 1\n",
    "cv2.destroyAllWindows()\n",
    "vid.release()"
   ]
  },
  {
   "cell_type": "code",
   "execution_count": null,
   "metadata": {
    "collapsed": false,
    "deletable": true,
    "editable": true
   },
   "outputs": [],
   "source": [
    "%timeit -n 10 -r 2 project_img(img, bg, corners[iteration], key_param)"
   ]
  },
  {
   "cell_type": "code",
   "execution_count": null,
   "metadata": {
    "collapsed": true,
    "deletable": true,
    "editable": true
   },
   "outputs": [],
   "source": [
    "%lprun -f project_img project_img(img, bg, corners[iteration], key_param, tola = 16 ,tolb = 50 ,low_thresh = 0.05 ,high_thresh = 0.25 ,erode_sz = 0 ,sz = 0 ,space = 0 ,sat_mul_lo = 0 ,sat_mul_hi = 0 ,scale_blur = 0 ,blur_size = 0)"
   ]
  },
  {
   "cell_type": "code",
   "execution_count": null,
   "metadata": {
    "collapsed": true,
    "deletable": true,
    "editable": true
   },
   "outputs": [],
   "source": [
    "%lprun -f project_img project_img(img, bg, corners[iteration], key_param)"
   ]
  },
  {
   "cell_type": "code",
   "execution_count": null,
   "metadata": {
    "collapsed": false,
    "deletable": true,
    "editable": true
   },
   "outputs": [],
   "source": [
    "%load_ext line_profiler"
   ]
  }
 ],
 "metadata": {
  "kernelspec": {
   "display_name": "Python 3",
   "language": "python",
   "name": "python3"
  },
  "language_info": {
   "codemirror_mode": {
    "name": "ipython",
    "version": 3
   },
   "file_extension": ".py",
   "mimetype": "text/x-python",
   "name": "python",
   "nbconvert_exporter": "python",
   "pygments_lexer": "ipython3",
   "version": "3.5.2"
  }
 },
 "nbformat": 4,
 "nbformat_minor": 2
}
